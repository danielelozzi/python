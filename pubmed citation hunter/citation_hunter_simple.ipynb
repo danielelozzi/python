{
 "cells": [
  {
   "cell_type": "code",
   "execution_count": 1,
   "id": "b5111113-f51e-4b40-beee-7d199f3b1db6",
   "metadata": {},
   "outputs": [],
   "source": [
    "import pandas as pd"
   ]
  },
  {
   "cell_type": "code",
   "execution_count": 2,
   "id": "f19ed856-68f9-437d-ae38-e0c9b033d642",
   "metadata": {},
   "outputs": [],
   "source": [
    "import requests\n",
    "from bs4 import BeautifulSoup\n",
    "import re"
   ]
  },
  {
   "cell_type": "code",
   "execution_count": 2,
   "id": "e23867fd-aa3e-43f1-b1f1-ce92bd317ccc",
   "metadata": {},
   "outputs": [
    {
     "name": "stdin",
     "output_type": "stream",
     "text": [
      "insert file name if this script is in the same directory of csv file or the complete path of file \n"
     ]
    }
   ],
   "source": [
    "file_name = str(input(\"insert file name if this script is in the same directory of csv file or the complete path of file\"))"
   ]
  },
  {
   "cell_type": "code",
   "execution_count": 3,
   "id": "ae582c3b-4db5-4806-a5eb-b819992dc78d",
   "metadata": {},
   "outputs": [],
   "source": [
    "pubmed = pd.read_csv(file_name)"
   ]
  },
  {
   "cell_type": "code",
   "execution_count": 4,
   "id": "430d1ffd-dd6b-48d9-83d0-bc0cce0f7047",
   "metadata": {},
   "outputs": [],
   "source": [
    "main_link = str('https://pubmed.ncbi.nlm.nih.gov/')"
   ]
  },
  {
   "cell_type": "code",
   "execution_count": 5,
   "id": "26dcd225-e97f-424d-8422-95ac71eb29d1",
   "metadata": {},
   "outputs": [],
   "source": [
    "for i,j in zip(range(pubmed.shape[0]), pubmed['PMID']):\n",
    "    try:\n",
    "        link = str(main_link + str(j))\n",
    "        req = requests.get(link)\n",
    "        text = str(BeautifulSoup(req.text, \"html.parser\"))\n",
    "        citation = re.search('<em class=\"amount\">(.*)</em>', text)\n",
    "        if citation is None:\n",
    "            pubmed.at[i,'citation_number'] = 0\n",
    "        else:\n",
    "            pubmed.at[i,'citation_number'] = citation.group(1)\n",
    "    except:\n",
    "        print(i, j)"
   ]
  },
  {
   "cell_type": "code",
   "execution_count": 6,
   "id": "b2c4f2d4-7a4b-4f24-bdda-f17031ffe148",
   "metadata": {},
   "outputs": [],
   "source": [
    "pubmed.to_excel('all_articles.xlsx')"
   ]
  }
 ],
 "metadata": {
  "kernelspec": {
   "display_name": "Python 3 (ipykernel)",
   "language": "python",
   "name": "python3"
  },
  "language_info": {
   "codemirror_mode": {
    "name": "ipython",
    "version": 3
   },
   "file_extension": ".py",
   "mimetype": "text/x-python",
   "name": "python",
   "nbconvert_exporter": "python",
   "pygments_lexer": "ipython3",
   "version": "3.8.12"
  }
 },
 "nbformat": 4,
 "nbformat_minor": 5
}
